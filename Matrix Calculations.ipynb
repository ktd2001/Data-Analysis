{
 "cells": [
  {
   "cell_type": "code",
   "execution_count": null,
   "metadata": {},
   "outputs": [],
   "source": [
    "# Keiana Dunn\n",
    "# Matrix Calculations\n",
    "# Date: 2/27/19\n",
    "# Week 3"
   ]
  },
  {
   "cell_type": "code",
   "execution_count": 1,
   "metadata": {},
   "outputs": [],
   "source": [
    "# Import package\n",
    "import numpy as np"
   ]
  },
  {
   "cell_type": "code",
   "execution_count": 2,
   "metadata": {},
   "outputs": [],
   "source": [
    "# Matrix data\n",
    "\n",
    "A = np.array([[1, 2, 3], [4, 5, 6], [7, 8, 9]])\n",
    "\n",
    "B = np.array([[6, 7], [4, 5], [8, 9]])\n",
    "\n",
    "C = np.array([[5, 2, 7], [3, 5, 1], [7, 2, 1]])\n",
    "\n",
    "D = np.array([[5], [8], [3]])\n",
    "\n",
    "\n",
    "# Added this for looping  \n",
    "result = np.array([[0,0,0], \n",
    "                   [0,0,0], \n",
    "                  [0,0,0]])\n",
    "\n",
    "#Compute the following:\n",
    "\n",
    "#A+C\n",
    "\n",
    "#A-C\n",
    "\n",
    "#AC\n",
    "\n",
    "#CD\n",
    "\n"
   ]
  },
  {
   "cell_type": "code",
   "execution_count": 3,
   "metadata": {},
   "outputs": [
    {
     "data": {
      "text/plain": [
       "array([[ 6,  4, 10],\n",
       "       [ 7, 10,  7],\n",
       "       [14, 10, 10]])"
      ]
     },
     "execution_count": 3,
     "metadata": {},
     "output_type": "execute_result"
    }
   ],
   "source": [
    "# To add A and C matrices neeed to use np.add. Both must be 3 x 3 matrices to add. \n",
    "np.add(A,C)"
   ]
  },
  {
   "cell_type": "code",
   "execution_count": 4,
   "metadata": {},
   "outputs": [
    {
     "name": "stdout",
     "output_type": "stream",
     "text": [
      "[ 6  4 10]\n",
      "[ 7 10  7]\n",
      "[14 10 10]\n"
     ]
    }
   ],
   "source": [
    "# Practice making a nestloop to adds A and C matrices together. np.add is NOT needed. \n",
    "# interate through the rows\n",
    "for i in range(len(A)):\n",
    "    # interate through the columns\n",
    "    for j in range(len(C[0])):\n",
    "        result[i][j]= A[i][j] + C[i][j] \n",
    "# Elements from A and C matrices were added together and stored in result        \n",
    "for r in result:\n",
    "    print(r)\n",
    "        "
   ]
  },
  {
   "cell_type": "code",
   "execution_count": 5,
   "metadata": {},
   "outputs": [
    {
     "data": {
      "text/plain": [
       "numpy.ndarray"
      ]
     },
     "execution_count": 5,
     "metadata": {},
     "output_type": "execute_result"
    }
   ],
   "source": [
    "# Check to see what type of object was created\n",
    "type(result)"
   ]
  },
  {
   "cell_type": "code",
   "execution_count": 6,
   "metadata": {},
   "outputs": [
    {
     "data": {
      "text/plain": [
       "array([[-4,  0, -4],\n",
       "       [ 1,  0,  5],\n",
       "       [ 0,  6,  8]])"
      ]
     },
     "execution_count": 6,
     "metadata": {},
     "output_type": "execute_result"
    }
   ],
   "source": [
    "# To subtract A and C matrices need to use np.subtract. Both must be 3 x3 or the same structure matrix to subtract.\n",
    "np.subtract(A,C)"
   ]
  },
  {
   "cell_type": "code",
   "execution_count": 7,
   "metadata": {},
   "outputs": [
    {
     "name": "stdout",
     "output_type": "stream",
     "text": [
      "[-4  0 -4]\n",
      "[1 0 5]\n",
      "[0 6 8]\n"
     ]
    }
   ],
   "source": [
    "# Loop practice and to check math.  np.subtract was NOT needed\n",
    "# interate through rows\n",
    "for i in range(len(A)):\n",
    "    # interate through the columns\n",
    "    for j in range(len(C)):\n",
    "        result[i][j]= A[i][j]- C[i][j]\n",
    "        \n",
    "# The difference of elements in A and C stored in result\n",
    "for r in result:\n",
    "    print(r)"
   ]
  },
  {
   "cell_type": "code",
   "execution_count": 8,
   "metadata": {},
   "outputs": [
    {
     "data": {
      "text/plain": [
       "numpy.ndarray"
      ]
     },
     "execution_count": 8,
     "metadata": {},
     "output_type": "execute_result"
    }
   ],
   "source": [
    "type(r)"
   ]
  },
  {
   "cell_type": "code",
   "execution_count": 9,
   "metadata": {},
   "outputs": [
    {
     "data": {
      "text/plain": [
       "array([[ 32,  18,  12],\n",
       "       [ 77,  45,  39],\n",
       "       [122,  72,  66]])"
      ]
     },
     "execution_count": 9,
     "metadata": {},
     "output_type": "execute_result"
    }
   ],
   "source": [
    "# To multiply A and C matrices need to use np.matmul. Two 3 x 3 matrices multiplied produced a 3 x 3 product matrix. \n",
    "np.matmul(A,C)"
   ]
  },
  {
   "cell_type": "code",
   "execution_count": 10,
   "metadata": {},
   "outputs": [
    {
     "name": "stdout",
     "output_type": "stream",
     "text": [
      "[[ 11  12  59]\n",
      " [ 37  75  23]\n",
      " [147  54  35]]\n",
      "[[ 11  12  59]\n",
      " [ 37  75  23]\n",
      " [147  54  35]]\n",
      "[[ 11  12  59]\n",
      " [ 37  75  23]\n",
      " [147  54  35]]\n"
     ]
    }
   ],
   "source": [
    "# Practice nest loop with multiplying \n",
    "# interate through A rows \n",
    "for i in range(len(A)):\n",
    "    # interate through C columns\n",
    "    for j in range(len(C[0])):\n",
    "        #interate through C rows\n",
    "        for k in range(len(C)):\n",
    "            result[i][j]+= A[i][j]*C[i][j]\n",
    "# Store product in result\n",
    "for r in result:\n",
    "    print(result)"
   ]
  },
  {
   "cell_type": "markdown",
   "metadata": {},
   "source": [
    "Did not produce same result as matmul"
   ]
  },
  {
   "cell_type": "code",
   "execution_count": 11,
   "metadata": {},
   "outputs": [
    {
     "name": "stdout",
     "output_type": "stream",
     "text": [
      "[[ 11  12  59]\n",
      " [ 37  75  23]\n",
      " [147  54  35]]\n"
     ]
    }
   ],
   "source": [
    "# Second loop attempt because * only doesn't calculate correctly for multiplying \n",
    "def matmul(A,C):\n",
    "    result = [] # final result\n",
    "    # interate through A rows \n",
    "    for i in range(len(A)):\n",
    "        \n",
    "        row = [] # the new row in new matrix\n",
    "    \n",
    "        # interate through C columns\n",
    "        for j in range(len(C[i])):\n",
    "            \n",
    "            product = 0 # the new element in the new row\n",
    "            \n",
    "            #interate through A rows\n",
    "            for v in range(len(A[i])):\n",
    "                 product += A[i][v] * C[v][j]\n",
    "        \n",
    "            row.append(product) # append sum of product into the new row\n",
    "\n",
    "        result.append(row) # append the new row into the final result\n",
    "    return result\n",
    "print(result)"
   ]
  },
  {
   "cell_type": "markdown",
   "metadata": {},
   "source": [
    "Second attempt did not produce same result as matmul"
   ]
  },
  {
   "cell_type": "code",
   "execution_count": 12,
   "metadata": {},
   "outputs": [
    {
     "data": {
      "text/plain": [
       "array([[62],\n",
       "       [58],\n",
       "       [54]])"
      ]
     },
     "execution_count": 12,
     "metadata": {},
     "output_type": "execute_result"
    }
   ],
   "source": [
    "# To multiply C and D matrices need to use np.matmul. Multiplying 3 x 3 and 3 x 1 matrices produces a 3 x 1 matrix\n",
    "np.matmul(C,D)"
   ]
  }
 ],
 "metadata": {
  "kernelspec": {
   "display_name": "Python 3",
   "language": "python",
   "name": "python3"
  },
  "language_info": {
   "codemirror_mode": {
    "name": "ipython",
    "version": 3
   },
   "file_extension": ".py",
   "mimetype": "text/x-python",
   "name": "python",
   "nbconvert_exporter": "python",
   "pygments_lexer": "ipython3",
   "version": "3.6.8"
  }
 },
 "nbformat": 4,
 "nbformat_minor": 2
}
