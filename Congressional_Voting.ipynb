{
 "cells": [
  {
   "cell_type": "markdown",
   "metadata": {},
   "source": [
    "Keiana Dunn\n",
    "Project 2\n",
    "Voting records - party prediction\n",
    "Neural Network for binary classification Predictive Modeling\n",
    "Date: 4/24/19"
   ]
  },
  {
   "cell_type": "markdown",
   "metadata": {},
   "source": [
    "# Import library"
   ]
  },
  {
   "cell_type": "code",
   "execution_count": 1,
   "metadata": {},
   "outputs": [
    {
     "name": "stderr",
     "output_type": "stream",
     "text": [
      "/home/ktd2001/anaconda3/lib/python3.6/site-packages/h5py/__init__.py:36: FutureWarning: Conversion of the second argument of issubdtype from `float` to `np.floating` is deprecated. In future, it will be treated as `np.float64 == np.dtype(float).type`.\n",
      "  from ._conv import register_converters as _register_converters\n",
      "Using TensorFlow backend.\n"
     ]
    }
   ],
   "source": [
    "# Import necessary libraries\n",
    "from keras.models import Sequential\n",
    "from keras.layers import Dense\n",
    "from keras import optimizers\n",
    "import numpy as np\n",
    "import pandas as pd\n",
    "from sklearn.preprocessing import LabelEncoder # Used to encode labels with value between 0 and 1. \n",
    "from sklearn.metrics import classification_report, confusion_matrix \n",
    "import matplotlib.pyplot as plt\n",
    "\n",
    "# set random seed for reproducibility\n",
    "np.random.seed(7)# split into input (X) and output (Y) variables using 16 inputs"
   ]
  },
  {
   "cell_type": "markdown",
   "metadata": {},
   "source": [
    "# Load data"
   ]
  },
  {
   "cell_type": "code",
   "execution_count": 2,
   "metadata": {},
   "outputs": [
    {
     "name": "stdout",
     "output_type": "stream",
     "text": [
      "[[0 0 1 ... 1 1 1]\n",
      " [1 0 1 ... 1 0 1]\n",
      " [0 1 1 ... 0 1 1]\n",
      " ...\n",
      " [1 0 0 ... 1 0 1]\n",
      " [1 0 0 ... 1 0 1]\n",
      " [0 0 0 ... 0 0 1]]\n",
      "(232, 17)\n"
     ]
    }
   ],
   "source": [
    "#read in file that consist of strings of text\n",
    "dataset = pd.read_csv(\"votingrecords.csv\", header = None)\n",
    "\n",
    "# LabelEncoder used to assigning labels categorical, fit used to encode on to labels, and Transform label used to normalized encoding\n",
    "dataset1 = dataset.apply(LabelEncoder().fit_transform) \n",
    "\n",
    "# Convert dataframe into a numpy array\n",
    "dataset2 = dataset1.values\n",
    "\n",
    "print(dataset2)\n",
    "\n",
    "# Shows # of observations and variables \n",
    "print(dataset2.shape) "
   ]
  },
  {
   "cell_type": "code",
   "execution_count": 3,
   "metadata": {},
   "outputs": [],
   "source": [
    "# split into input (X) and output (Y) variables\n",
    "# democrat = 0, republican = 1                                         \n",
    "X = dataset2[:,1:17]\n",
    "Y = dataset2[:,0]"
   ]
  },
  {
   "cell_type": "markdown",
   "metadata": {},
   "source": [
    "# Create model architecture"
   ]
  },
  {
   "cell_type": "code",
   "execution_count": 4,
   "metadata": {},
   "outputs": [
    {
     "name": "stdout",
     "output_type": "stream",
     "text": [
      "WARNING:tensorflow:From /home/ktd2001/anaconda3/lib/python3.6/site-packages/tensorflow/python/framework/op_def_library.py:263: colocate_with (from tensorflow.python.framework.ops) is deprecated and will be removed in a future version.\n",
      "Instructions for updating:\n",
      "Colocations handled automatically by placer.\n"
     ]
    }
   ],
   "source": [
    "# Create sequential model \n",
    "model = Sequential()\n",
    "# Create Multilayer Perceptron with binary classes and activation functions\n",
    "model.add(Dense(12, input_dim=16,activation='relu')) #16 neurons using relu activation function\n",
    "model.add(Dense(8, activation='relu')) # 8 neurons using relu activation function\n",
    "model.add(Dense(1, activation='sigmoid')) #Single neuron used to produce a probability output in range of 0 to 1 "
   ]
  },
  {
   "cell_type": "markdown",
   "metadata": {},
   "source": [
    "# Compile network optimizer, loss function, and metrics to train the model"
   ]
  },
  {
   "cell_type": "code",
   "execution_count": 5,
   "metadata": {},
   "outputs": [],
   "source": [
    "# Learning Rate \n",
    "adam_50 = optimizers.Adam(lr=0.001, beta_1=0.9, beta_2=0.999, epsilon=None, decay=0.0, amsgrad=False)\n",
    "#Compile model using loss function, optimizer and metrics\n",
    "model.compile(loss='binary_crossentropy', optimizer='adam', metrics=['accuracy'])"
   ]
  },
  {
   "cell_type": "markdown",
   "metadata": {},
   "source": [
    "# Fit model by training neural network"
   ]
  },
  {
   "cell_type": "code",
   "execution_count": 6,
   "metadata": {},
   "outputs": [
    {
     "name": "stdout",
     "output_type": "stream",
     "text": [
      "WARNING:tensorflow:From /home/ktd2001/anaconda3/lib/python3.6/site-packages/tensorflow/python/ops/math_ops.py:3066: to_int32 (from tensorflow.python.ops.math_ops) is deprecated and will be removed in a future version.\n",
      "Instructions for updating:\n",
      "Use tf.cast instead.\n"
     ]
    }
   ],
   "source": [
    "# Fit the model \n",
    "history = model.fit(X,Y,epochs=50,batch_size=10, verbose=0)"
   ]
  },
  {
   "cell_type": "markdown",
   "metadata": {},
   "source": [
    "# Evaluate efficiency and performance of the model now that NN is built"
   ]
  },
  {
   "cell_type": "code",
   "execution_count": 7,
   "metadata": {},
   "outputs": [
    {
     "name": "stdout",
     "output_type": "stream",
     "text": [
      "232/232 [==============================] - 0s 277us/step\n",
      "[0.18308889917258558, 0.9870689655172413]\n",
      "[[2.48104334e-03]\n",
      " [7.15861917e-01]\n",
      " [6.15417957e-05]\n",
      " [1.07067823e-03]\n",
      " [3.22574377e-03]\n",
      " [8.44299793e-05]\n",
      " [6.15417957e-05]\n",
      " [7.15861917e-01]\n",
      " [6.15417957e-05]\n",
      " [7.15861917e-01]\n",
      " [3.74853611e-04]\n",
      " [7.15861917e-01]\n",
      " [1.07067823e-03]\n",
      " [7.15861917e-01]\n",
      " [7.15861917e-01]\n",
      " [7.15861917e-01]\n",
      " [3.87430191e-05]\n",
      " [4.08455729e-03]\n",
      " [1.28948689e-03]\n",
      " [2.60061026e-03]\n",
      " [5.61042428e-02]\n",
      " [6.15417957e-05]\n",
      " [7.15861917e-01]\n",
      " [7.15861917e-01]\n",
      " [7.15861917e-01]\n",
      " [7.15861917e-01]\n",
      " [7.15861917e-01]\n",
      " [7.15861917e-01]\n",
      " [1.72555447e-04]\n",
      " [7.15861917e-01]\n",
      " [7.15861917e-01]\n",
      " [7.15861917e-01]\n",
      " [1.07067823e-03]\n",
      " [5.99952340e-01]\n",
      " [7.15861917e-01]\n",
      " [5.47617674e-04]\n",
      " [4.80692565e-01]\n",
      " [1.07331187e-01]\n",
      " [1.06391311e-03]\n",
      " [7.15861917e-01]\n",
      " [7.15861917e-01]\n",
      " [7.15861917e-01]\n",
      " [2.56353617e-03]\n",
      " [7.15861917e-01]\n",
      " [7.15861917e-01]\n",
      " [1.55752897e-03]\n",
      " [3.22574377e-03]\n",
      " [2.10791826e-04]\n",
      " [6.03973866e-04]\n",
      " [8.93417001e-03]\n",
      " [1.52153075e-01]\n",
      " [2.02679634e-03]\n",
      " [2.89033949e-02]\n",
      " [6.49595261e-03]\n",
      " [2.73585320e-05]\n",
      " [7.15861917e-01]\n",
      " [4.18502092e-03]\n",
      " [8.44299793e-05]\n",
      " [7.15861917e-01]\n",
      " [5.05745411e-05]\n",
      " [7.15861917e-01]\n",
      " [7.15861917e-01]\n",
      " [6.36127591e-03]\n",
      " [7.15861917e-01]\n",
      " [7.15861917e-01]\n",
      " [6.88770056e-01]\n",
      " [2.29431391e-02]\n",
      " [5.69790602e-04]\n",
      " [7.15861917e-01]\n",
      " [7.15861917e-01]\n",
      " [7.15861917e-01]\n",
      " [8.15956891e-02]\n",
      " [7.15861917e-01]\n",
      " [7.65264034e-04]\n",
      " [7.15861917e-01]\n",
      " [2.95042992e-06]\n",
      " [4.04357910e-04]\n",
      " [7.15861917e-01]\n",
      " [7.15861917e-01]\n",
      " [7.15861917e-01]\n",
      " [4.37057912e-02]\n",
      " [2.00033695e-01]\n",
      " [2.42200494e-03]\n",
      " [7.15861917e-01]\n",
      " [7.15861917e-01]\n",
      " [7.02605963e-01]\n",
      " [4.83578444e-03]\n",
      " [2.87720561e-02]\n",
      " [2.71657109e-03]\n",
      " [7.15861917e-01]\n",
      " [3.22574377e-03]\n",
      " [2.74807215e-04]\n",
      " [2.74807215e-04]\n",
      " [1.78486109e-04]\n",
      " [1.28948689e-03]\n",
      " [4.95895743e-03]\n",
      " [1.65063143e-03]\n",
      " [1.30025744e-02]\n",
      " [1.07067823e-03]\n",
      " [6.69062138e-05]\n",
      " [3.22574377e-03]\n",
      " [7.15861917e-01]\n",
      " [4.25919890e-03]\n",
      " [7.15861917e-01]\n",
      " [4.25398350e-04]\n",
      " [5.43922186e-04]\n",
      " [7.15861917e-01]\n",
      " [1.16467476e-04]\n",
      " [1.40070915e-06]\n",
      " [7.15861917e-01]\n",
      " [7.15861917e-01]\n",
      " [2.53230333e-04]\n",
      " [7.15861917e-01]\n",
      " [3.86565924e-04]\n",
      " [7.15861917e-01]\n",
      " [7.15861917e-01]\n",
      " [7.15861917e-01]\n",
      " [7.15861917e-01]\n",
      " [7.15861917e-01]\n",
      " [1.65063143e-03]\n",
      " [8.73059034e-04]\n",
      " [7.15861917e-01]\n",
      " [1.69596076e-03]\n",
      " [8.97645950e-04]\n",
      " [2.10791826e-04]\n",
      " [7.15861917e-01]\n",
      " [7.15861917e-01]\n",
      " [4.82916832e-04]\n",
      " [7.15861917e-01]\n",
      " [1.00034773e-02]\n",
      " [2.49116123e-02]\n",
      " [7.15861917e-01]\n",
      " [1.16467476e-04]\n",
      " [4.08455729e-03]\n",
      " [1.00034773e-02]\n",
      " [1.00034773e-02]\n",
      " [7.15861917e-01]\n",
      " [5.05974352e-01]\n",
      " [4.08455729e-03]\n",
      " [1.07067823e-03]\n",
      " [7.15861917e-01]\n",
      " [7.15861917e-01]\n",
      " [7.15861917e-01]\n",
      " [7.15861917e-01]\n",
      " [7.15861917e-01]\n",
      " [7.46904016e-02]\n",
      " [7.15861917e-01]\n",
      " [8.71717930e-05]\n",
      " [1.18643045e-04]\n",
      " [3.13758850e-04]\n",
      " [6.54160976e-05]\n",
      " [7.15861917e-01]\n",
      " [2.56088376e-03]\n",
      " [1.26498938e-03]\n",
      " [7.15861917e-01]\n",
      " [7.15861917e-01]\n",
      " [7.15861917e-01]\n",
      " [7.15861917e-01]\n",
      " [7.15861917e-01]\n",
      " [7.15861917e-01]\n",
      " [1.06795847e-01]\n",
      " [7.15861917e-01]\n",
      " [7.25567341e-04]\n",
      " [2.05311179e-03]\n",
      " [7.15861917e-01]\n",
      " [6.96974695e-01]\n",
      " [9.01460648e-04]\n",
      " [4.57348526e-02]\n",
      " [1.06063485e-03]\n",
      " [1.20630860e-03]\n",
      " [7.15861917e-01]\n",
      " [5.65646768e-01]\n",
      " [7.15861917e-01]\n",
      " [1.72555447e-04]\n",
      " [7.15861917e-01]\n",
      " [1.65063143e-03]\n",
      " [1.28948689e-03]\n",
      " [2.49116123e-02]\n",
      " [7.15861917e-01]\n",
      " [7.15861917e-01]\n",
      " [7.15861917e-01]\n",
      " [2.74807215e-04]\n",
      " [7.15861917e-01]\n",
      " [7.15861917e-01]\n",
      " [7.15861917e-01]\n",
      " [7.06937432e-01]\n",
      " [1.78569555e-03]\n",
      " [7.13066638e-01]\n",
      " [7.15817273e-01]\n",
      " [7.04076648e-01]\n",
      " [7.15861917e-01]\n",
      " [7.15861917e-01]\n",
      " [5.73903322e-04]\n",
      " [3.08752060e-05]\n",
      " [7.03658819e-01]\n",
      " [6.85700536e-01]\n",
      " [5.76090217e-02]\n",
      " [1.49765611e-03]\n",
      " [7.15861917e-01]\n",
      " [7.15861917e-01]\n",
      " [7.15861917e-01]\n",
      " [7.15861917e-01]\n",
      " [7.15861917e-01]\n",
      " [7.94529915e-05]\n",
      " [2.48270214e-01]\n",
      " [7.29706883e-03]\n",
      " [1.92555785e-03]\n",
      " [7.04856515e-01]\n",
      " [1.11758709e-05]\n",
      " [1.07645988e-03]\n",
      " [7.15861917e-01]\n",
      " [7.15861917e-01]\n",
      " [7.15861917e-01]\n",
      " [7.33956695e-03]\n",
      " [7.15861917e-01]\n",
      " [7.15861917e-01]\n",
      " [7.10636616e-01]\n",
      " [2.10136175e-04]\n",
      " [7.15861917e-01]\n",
      " [2.60061026e-03]\n",
      " [7.15861917e-01]\n",
      " [7.90953636e-05]\n",
      " [1.93332136e-02]\n",
      " [2.60061026e-03]\n",
      " [7.03394413e-01]\n",
      " [2.66432762e-05]\n",
      " [4.38988209e-05]\n",
      " [2.40415335e-04]\n",
      " [3.22574377e-03]\n",
      " [7.15861917e-01]\n",
      " [7.15861917e-01]\n",
      " [1.25698745e-02]]\n"
     ]
    }
   ],
   "source": [
    "# Evaluates the model efficiency and performance\n",
    "scores_50 = model.evaluate(X, Y)   # Evaluation of the loss function for a given inputs\n",
    "y_predict_50 = model.predict(X)    # Prediction results\n",
    "print(scores_50)\n",
    "print(y_predict_50)"
   ]
  },
  {
   "cell_type": "markdown",
   "metadata": {},
   "source": [
    "# List all data in history and accuracy rate"
   ]
  },
  {
   "cell_type": "code",
   "execution_count": 8,
   "metadata": {},
   "outputs": [
    {
     "name": "stdout",
     "output_type": "stream",
     "text": [
      "dict_keys(['loss', 'acc'])\n"
     ]
    }
   ],
   "source": [
    "print(history.history.keys())\n"
   ]
  },
  {
   "cell_type": "code",
   "execution_count": 9,
   "metadata": {},
   "outputs": [
    {
     "name": "stdout",
     "output_type": "stream",
     "text": [
      "\n",
      "acc: 98.71%\n"
     ]
    }
   ],
   "source": [
    "print(\"\\n%s: %.2f%%\" % (model.metrics_names[1], scores_50[1]*100))"
   ]
  },
  {
   "cell_type": "code",
   "execution_count": 10,
   "metadata": {},
   "outputs": [
    {
     "name": "stdout",
     "output_type": "stream",
     "text": [
      "\n",
      "loss: 18.31%\n"
     ]
    }
   ],
   "source": [
    "print(\"\\n%s: %.2f%%\" % (model.metrics_names[0], scores_50[0]*100))"
   ]
  },
  {
   "cell_type": "markdown",
   "metadata": {},
   "source": [
    "# Create confusion matrix details"
   ]
  },
  {
   "cell_type": "code",
   "execution_count": 11,
   "metadata": {},
   "outputs": [
    {
     "name": "stdout",
     "output_type": "stream",
     "text": [
      "Confusion Matrix\n",
      "================\n",
      "True negatives:  121\n",
      "False negatives:  0\n",
      "False positives:  3\n",
      "True positives:  108\n"
     ]
    }
   ],
   "source": [
    "# Create confusion matrix details\n",
    "rounded_50 = [round(i[0]) for i in y_predict_50]\n",
    "y_pred_50 = np.array(rounded_50,dtype='int64')\n",
    "print('Confusion Matrix')\n",
    "print('================')\n",
    "CM = confusion_matrix(Y, y_pred_50)\n",
    "print('True negatives: ',CM[0,0])\n",
    "print('False negatives: ',CM[1,0])\n",
    "print('False positives: ',CM[0,1])\n",
    "print('True positives: ',CM[1,1])"
   ]
  },
  {
   "cell_type": "markdown",
   "metadata": {},
   "source": [
    "# Plot accuracy and loss"
   ]
  },
  {
   "cell_type": "code",
   "execution_count": 12,
   "metadata": {},
   "outputs": [
    {
     "data": {
      "image/png": "[encoded data removed]",
      "text/plain": [
       "<Figure size 432x288 with 1 Axes>"
      ]
     },
     "metadata": {},
     "output_type": "display_data"
    }
   ],
   "source": [
    "#Plot figure\n",
    "plt.plot(history.history['acc'])\n",
    "plt.plot(history.history['loss'])\n",
    "plt.title('Model Accuracy and Loss in 50 Epochs with LR= 0.001')\n",
    "plt.ylabel('Convergency of Loss and Accuracy')\n",
    "plt.xlabel('Epoch')\n",
    "plt.legend(['acc', 'loss'], loc='center right')\n",
    "plt.text(15,-0.2, 'Plot of Model Accuracy and Loss. Loss is decreasing and accuracy is increasing.', ha='center', va='top')\n",
    "plt.show()"
   ]
  },
  {
   "cell_type": "code",
   "execution_count": 14,
   "metadata": {},
   "outputs": [
    {
     "name": "stdout",
     "output_type": "stream",
     "text": [
      "232/232 [==============================] - 0s 816us/step\n",
      "[0.02757145159331889, 0.9913793103448276]\n",
      "[[2.43008137e-04]\n",
      " [9.99078035e-01]\n",
      " [1.75833702e-05]\n",
      " [1.00940466e-04]\n",
      " [2.69433856e-03]\n",
      " [6.20782375e-05]\n",
      " [1.75833702e-05]\n",
      " [9.99906540e-01]\n",
      " [1.75833702e-05]\n",
      " [9.97438192e-01]\n",
      " [7.44789839e-04]\n",
      " [9.99078035e-01]\n",
      " [1.00940466e-04]\n",
      " [9.97438192e-01]\n",
      " [9.99527037e-01]\n",
      " [9.99898016e-01]\n",
      " [2.61962414e-05]\n",
      " [1.23083591e-03]\n",
      " [3.37183475e-04]\n",
      " [5.38796186e-04]\n",
      " [1.58566236e-02]\n",
      " [1.75833702e-05]\n",
      " [9.99972224e-01]\n",
      " [9.76290226e-01]\n",
      " [9.91349339e-01]\n",
      " [9.99959826e-01]\n",
      " [9.99959826e-01]\n",
      " [9.97438192e-01]\n",
      " [6.69360161e-05]\n",
      " [9.99870598e-01]\n",
      " [8.89266491e-01]\n",
      " [9.99898016e-01]\n",
      " [1.00940466e-04]\n",
      " [6.08897209e-01]\n",
      " [9.99885559e-01]\n",
      " [2.05934048e-05]\n",
      " [2.53093660e-01]\n",
      " [5.98022044e-02]\n",
      " [1.16378069e-04]\n",
      " [9.99976575e-01]\n",
      " [9.99943852e-01]\n",
      " [9.97484922e-01]\n",
      " [2.62767076e-04]\n",
      " [9.99857426e-01]\n",
      " [9.97484922e-01]\n",
      " [9.03010368e-06]\n",
      " [2.69433856e-03]\n",
      " [5.09023666e-05]\n",
      " [5.68330288e-05]\n",
      " [3.62923741e-03]\n",
      " [3.42270136e-02]\n",
      " [4.43071127e-04]\n",
      " [2.35855579e-03]\n",
      " [5.15550375e-04]\n",
      " [9.38773155e-06]\n",
      " [9.99078035e-01]\n",
      " [9.12457705e-04]\n",
      " [6.20782375e-05]\n",
      " [9.99798179e-01]\n",
      " [1.20997429e-05]\n",
      " [9.97484922e-01]\n",
      " [9.99890566e-01]\n",
      " [1.94925070e-03]\n",
      " [9.99943852e-01]\n",
      " [9.99857426e-01]\n",
      " [9.63891506e-01]\n",
      " [2.65762210e-03]\n",
      " [1.01625919e-04]\n",
      " [9.99771118e-01]\n",
      " [9.99897599e-01]\n",
      " [9.99078035e-01]\n",
      " [1.38846308e-01]\n",
      " [9.91349339e-01]\n",
      " [5.88774681e-04]\n",
      " [9.99989033e-01]\n",
      " [1.34110451e-06]\n",
      " [2.33054161e-05]\n",
      " [9.97438192e-01]\n",
      " [9.99652207e-01]\n",
      " [9.99898016e-01]\n",
      " [1.37215257e-02]\n",
      " [2.51072943e-01]\n",
      " [5.04851341e-05]\n",
      " [9.99567509e-01]\n",
      " [9.99592662e-01]\n",
      " [9.22475100e-01]\n",
      " [2.44528055e-04]\n",
      " [6.62696362e-03]\n",
      " [2.79635191e-04]\n",
      " [9.87464547e-01]\n",
      " [2.69433856e-03]\n",
      " [6.00814819e-05]\n",
      " [6.00814819e-05]\n",
      " [2.19643116e-05]\n",
      " [3.37183475e-04]\n",
      " [1.07765198e-04]\n",
      " [3.80635262e-04]\n",
      " [5.12421131e-04]\n",
      " [1.00940466e-04]\n",
      " [1.44541264e-05]\n",
      " [2.69433856e-03]\n",
      " [9.88804817e-01]\n",
      " [7.78943300e-04]\n",
      " [9.99890566e-01]\n",
      " [7.12275505e-05]\n",
      " [1.09434128e-04]\n",
      " [9.99959826e-01]\n",
      " [7.63237476e-05]\n",
      " [1.34110451e-06]\n",
      " [9.99989033e-01]\n",
      " [9.99898016e-01]\n",
      " [1.15633011e-05]\n",
      " [9.99905944e-01]\n",
      " [1.79708004e-05]\n",
      " [9.93842602e-01]\n",
      " [9.99078035e-01]\n",
      " [9.99661684e-01]\n",
      " [9.99959826e-01]\n",
      " [9.99890566e-01]\n",
      " [3.80635262e-04]\n",
      " [3.31503153e-03]\n",
      " [9.99598265e-01]\n",
      " [7.32839108e-05]\n",
      " [1.66046619e-03]\n",
      " [5.09023666e-05]\n",
      " [9.97438192e-01]\n",
      " [9.97438192e-01]\n",
      " [3.22759151e-05]\n",
      " [9.99078035e-01]\n",
      " [1.87986493e-02]\n",
      " [1.45543218e-02]\n",
      " [9.99400377e-01]\n",
      " [7.63237476e-05]\n",
      " [1.23083591e-03]\n",
      " [1.87986493e-02]\n",
      " [1.87986493e-02]\n",
      " [9.99890566e-01]\n",
      " [7.71617591e-01]\n",
      " [1.23083591e-03]\n",
      " [1.00940466e-04]\n",
      " [9.99947309e-01]\n",
      " [9.90011394e-01]\n",
      " [9.98982072e-01]\n",
      " [9.99094784e-01]\n",
      " [9.99857426e-01]\n",
      " [3.09676528e-02]\n",
      " [9.99094784e-01]\n",
      " [1.72555447e-05]\n",
      " [7.58171082e-05]\n",
      " [2.54511833e-04]\n",
      " [1.96695328e-06]\n",
      " [9.96835351e-01]\n",
      " [7.97808170e-05]\n",
      " [6.65187836e-05]\n",
      " [9.99990225e-01]\n",
      " [9.99966502e-01]\n",
      " [9.97484922e-01]\n",
      " [9.99857426e-01]\n",
      " [9.97484922e-01]\n",
      " [9.99857426e-01]\n",
      " [2.31934786e-02]\n",
      " [9.99668598e-01]\n",
      " [2.80231237e-04]\n",
      " [1.09827518e-03]\n",
      " [9.99192476e-01]\n",
      " [8.53664637e-01]\n",
      " [3.76999378e-05]\n",
      " [7.55193233e-02]\n",
      " [2.66015530e-04]\n",
      " [7.36087561e-03]\n",
      " [5.74988127e-01]\n",
      " [3.99503767e-01]\n",
      " [9.99078035e-01]\n",
      " [6.69360161e-05]\n",
      " [9.99898016e-01]\n",
      " [3.80635262e-04]\n",
      " [3.37183475e-04]\n",
      " [1.45543218e-02]\n",
      " [8.17217588e-01]\n",
      " [9.88556862e-01]\n",
      " [9.99879003e-01]\n",
      " [6.00814819e-05]\n",
      " [9.99855518e-01]\n",
      " [9.99943852e-01]\n",
      " [9.99961019e-01]\n",
      " [8.37842822e-01]\n",
      " [5.76078892e-05]\n",
      " [9.80709553e-01]\n",
      " [9.00811911e-01]\n",
      " [9.94560599e-01]\n",
      " [9.97484922e-01]\n",
      " [9.97484922e-01]\n",
      " [5.47438860e-04]\n",
      " [5.63263893e-06]\n",
      " [9.54418778e-01]\n",
      " [8.80434632e-01]\n",
      " [1.22687221e-03]\n",
      " [2.34204531e-03]\n",
      " [9.98723865e-01]\n",
      " [9.99078035e-01]\n",
      " [5.03535807e-01]\n",
      " [9.99094784e-01]\n",
      " [9.99094784e-01]\n",
      " [7.98702240e-06]\n",
      " [1.39543593e-01]\n",
      " [1.31875277e-04]\n",
      " [9.43839550e-05]\n",
      " [9.20068145e-01]\n",
      " [9.11951065e-06]\n",
      " [9.17613506e-04]\n",
      " [9.76290226e-01]\n",
      " [9.99989033e-01]\n",
      " [9.99094784e-01]\n",
      " [1.18220150e-02]\n",
      " [5.79483151e-01]\n",
      " [9.97484922e-01]\n",
      " [7.93181658e-01]\n",
      " [5.32865524e-05]\n",
      " [9.99943852e-01]\n",
      " [5.38796186e-04]\n",
      " [9.99963760e-01]\n",
      " [5.00082970e-05]\n",
      " [1.14973992e-01]\n",
      " [5.38796186e-04]\n",
      " [9.99849916e-01]\n",
      " [2.46167183e-05]\n",
      " [2.19047070e-05]\n",
      " [5.60283661e-06]\n",
      " [2.69433856e-03]\n",
      " [9.99973297e-01]\n",
      " [9.89079356e-01]\n",
      " [5.67463040e-03]]\n",
      "\n",
      "acc: 99.14%\n",
      "\n",
      "loss: 2.76%\n",
      "Confusion Matrix\n",
      "================\n",
      "True negatives:  122\n",
      "False negatives:  0\n",
      "False positives:  2\n",
      "True positives:  108\n"
     ]
    }
   ],
   "source": [
    "# Create sequential model \n",
    "model = Sequential()\n",
    "# Create Multilayer Perceptron with binary classes and activation functions\n",
    "model.add(Dense(12, input_dim=16,activation='relu')) #16 neurons using relu activation function\n",
    "model.add(Dense(8, activation='relu')) # 8 neurons using relu activation function\n",
    "model.add(Dense(1, activation='sigmoid')) #Single neuron used to produce a probability output in range of 0 to 1 \n",
    "\n",
    "# Learning Rate \n",
    "adam_100 = optimizers.Adam(lr=0.01, beta_1=0.9, beta_2=0.999, epsilon=None, decay=0.0, amsgrad=False)\n",
    "\n",
    "#Compile model using loss function, optimizer and metrics\n",
    "model.compile(loss='binary_crossentropy', optimizer='adam', metrics=['accuracy'])\n",
    "\n",
    "# Fit the model \n",
    "history = model.fit(X,Y,epochs=100,batch_size=10, verbose=0)\n",
    "\n",
    "# Evaluates the model efficiency and performance\n",
    "scores_100 = model.evaluate(X, Y)   # Evaluation of the loss function for a given inputs\n",
    "Y_predict_100 = model.predict(X)    # Prediction results\n",
    "print(scores_100)\n",
    "print(Y_predict_100)\n",
    "\n",
    "# Accuracy rate\n",
    "print(\"\\n%s: %.2f%%\" % (model.metrics_names[1], scores_100[1]*100))\n",
    "\n",
    "# Loss rate\n",
    "print(\"\\n%s: %.2f%%\" % (model.metrics_names[0], scores_100[0]*100))\n",
    "\n",
    "# Create confusion matrix details\n",
    "rounded_100 = [round(i[0]) for i in Y_predict_100]\n",
    "Y_predict_100 = np.array(rounded_100,dtype='int64')\n",
    "print('Confusion Matrix')\n",
    "print('================')\n",
    "CM = confusion_matrix(Y, Y_predict_100)\n",
    "print('True negatives: ',CM[0,0])\n",
    "print('False negatives: ',CM[1,0])\n",
    "print('False positives: ',CM[0,1])\n",
    "print('True positives: ',CM[1,1])"
   ]
  },
  {
   "cell_type": "code",
   "execution_count": 15,
   "metadata": {},
   "outputs": [
    {
     "data": {
      "image/png": "[encoded data removed]",
      "text/plain": [
       "<Figure size 432x288 with 1 Axes>"
      ]
     },
     "metadata": {},
     "output_type": "display_data"
    }
   ],
   "source": [
    "#Plot figure\n",
    "plt.plot(history.history['acc'])\n",
    "plt.plot(history.history['loss'])\n",
    "plt.title('Model Accuracy and Loss in 100 Epochs with LR=0.01')\n",
    "plt.ylabel('Convergency of Loss and Accuracy')\n",
    "plt.xlabel('Epoch')\n",
    "plt.legend(['acc', 'loss'], loc='center right')\n",
    "plt.text(15, -0.28, 'Plot of Model Accuracy and Loss. Loss is decreasing and accuracy is increasing.', ha='center', va='top')\n",
    "plt.show()"
   ]
  },
  {
   "cell_type": "code",
   "execution_count": 24,
   "metadata": {},
   "outputs": [
    {
     "name": "stdout",
     "output_type": "stream",
     "text": [
      "232/232 [==============================] - 0s 1ms/step\n",
      "\n",
      "acc: 100.00%\n",
      "\n",
      "loss: 0.07%\n",
      "Confusion Matrix\n",
      "================\n",
      "True negatives:  124\n",
      "False negatives:  0\n",
      "False positives:  0\n",
      "True positives:  108\n"
     ]
    }
   ],
   "source": [
    "# Create sequential model \n",
    "model = Sequential()\n",
    "# Create Multilayer Perceptron with binary classes and activation functions\n",
    "model.add(Dense(12, input_dim=16,activation='relu')) #16 neurons using relu activation function\n",
    "model.add(Dense(8, activation='relu')) # 8 neurons using relu activation function\n",
    "model.add(Dense(1, activation='sigmoid')) #Single neuron used to produce a probability output in range of 0 to 1 \n",
    "\n",
    "# Learning Rate \n",
    "adam_300 = optimizers.Adam(lr=0.1, beta_1=0.9, beta_2=0.999, epsilon=None, decay=0.0, amsgrad=False)\n",
    "\n",
    "#Compile model using loss function, optimizer and metrics\n",
    "model.compile(loss='binary_crossentropy', optimizer='adam', metrics=['accuracy'])\n",
    "\n",
    "# Fit the model \n",
    "history = model.fit(X,Y,epochs=300,batch_size=10, verbose=0)\n",
    "\n",
    "# Evaluates the model efficiency and performance\n",
    "scores_300 = model.evaluate(X, Y) # Evaluation of the loss function for a given inputs\n",
    "y_predict_300 = model.predict(X)  # Prediction results\n",
    "\n",
    "# Accuracy rate\n",
    "print(\"\\n%s: %.2f%%\" % (model.metrics_names[1], scores_300[1]*100))\n",
    "\n",
    "# Loss rate\n",
    "print(\"\\n%s: %.2f%%\" % (model.metrics_names[0], scores_300[0]*100))\n",
    "\n",
    "# Create confusion matrix details\n",
    "rounded_300 = [round(i[0]) for i in y_predict_300]\n",
    "y_pred_300 = np.array(rounded_300,dtype='int64')\n",
    "print('Confusion Matrix')\n",
    "print('================')\n",
    "CM = confusion_matrix(Y, y_pred_300)\n",
    "print('True negatives: ',CM[0,0])\n",
    "print('False negatives: ',CM[1,0])\n",
    "print('False positives: ',CM[0,1])\n",
    "print('True positives: ',CM[1,1])"
   ]
  },
  {
   "cell_type": "code",
   "execution_count": 28,
   "metadata": {},
   "outputs": [
    {
     "data": {
      "image/png": "[encoded data removed]",
      "text/plain": [
       "<Figure size 432x288 with 1 Axes>"
      ]
     },
     "metadata": {},
     "output_type": "display_data"
    }
   ],
   "source": [
    "#Plot figure\n",
    "plt.semilogy(history.history['acc'])\n",
    "plt.semilogy(history.history['loss'])\n",
    "plt.title('Model Accuracy and Loss in 300 Epochs with LR=0.1')\n",
    "plt.ylabel('Convergency of Loss and Accuracy')\n",
    "plt.xlabel('Epoch')\n",
    "plt.legend(['acc', 'loss'], loc='center right')\n",
    "#plt.text(Plot of Model Accuracy and Loss. Loss is decreasing and accuracy is increasing.', ha='center', va='top')\n",
    "plt.show()"
   ]
  },
  {
   "cell_type": "code",
   "execution_count": null,
   "metadata": {},
   "outputs": [],
   "source": []
  }
 ],
 "metadata": {
  "kernelspec": {
   "display_name": "Python 3",
   "language": "python",
   "name": "python3"
  },
  "language_info": {
   "codemirror_mode": {
    "name": "ipython",
    "version": 3
   },
   "file_extension": ".py",
   "mimetype": "text/x-python",
   "name": "python",
   "nbconvert_exporter": "python",
   "pygments_lexer": "ipython3",
   "version": "3.6.8"
  }
 },
 "nbformat": 4,
 "nbformat_minor": 2
}
