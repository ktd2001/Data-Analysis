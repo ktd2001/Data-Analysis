{
 "cells": [
  {
   "cell_type": "code",
   "execution_count": null,
   "metadata": {},
   "outputs": [],
   "source": [
    "# Keiana Dunn\n",
    "# Project 2 \n",
    "# Pima Indians - Diabetes prediction (Python 3)\n",
    "# Neural Network for binary classification - Predictive Modeling\n",
    "# Date: 4/24/19"
   ]
  },
  {
   "cell_type": "markdown",
   "metadata": {},
   "source": [
    "# Import necessary libraries"
   ]
  },
  {
   "cell_type": "code",
   "execution_count": 1,
   "metadata": {},
   "outputs": [
    {
     "name": "stderr",
     "output_type": "stream",
     "text": [
      "/home/ktd2001/anaconda3/lib/python3.6/site-packages/h5py/__init__.py:36: FutureWarning: Conversion of the second argument of issubdtype from `float` to `np.floating` is deprecated. In future, it will be treated as `np.float64 == np.dtype(float).type`.\n",
      "  from ._conv import register_converters as _register_converters\n",
      "Using TensorFlow backend.\n"
     ]
    }
   ],
   "source": [
    "from keras.models import Sequential # Keras builds NN\n",
    "from keras.layers import Dense\n",
    "from keras import optimizers\n",
    "import numpy as np\n",
    "from sklearn.preprocessing import LabelEncoder\n",
    "from sklearn.metrics import classification_report, confusion_matrix\n",
    "import matplotlib.pyplot as plt\n",
    "\n",
    "# set random seed for reproducibility\n",
    "np.random.seed(7)"
   ]
  },
  {
   "cell_type": "markdown",
   "metadata": {},
   "source": [
    "# Load data, Assign labels, Fit the model and Split data"
   ]
  },
  {
   "cell_type": "code",
   "execution_count": 2,
   "metadata": {},
   "outputs": [
    {
     "name": "stdout",
     "output_type": "stream",
     "text": [
      "[[  6.    148.     72.    ...   0.627  50.      1.   ]\n",
      " [  1.     85.     66.    ...   0.351  31.      0.   ]\n",
      " [  8.    183.     64.    ...   0.672  32.      1.   ]\n",
      " ...\n",
      " [  5.    121.     72.    ...   0.245  30.      0.   ]\n",
      " [  1.    126.     60.    ...   0.349  47.      1.   ]\n",
      " [  1.     93.     70.    ...   0.315  23.      0.   ]]\n",
      "[1 1 0 1 1 0 1 0]\n",
      "(768, 9)\n"
     ]
    }
   ],
   "source": [
    "# load pima indians dataset\n",
    "dataset = np.loadtxt(\"pima-indians-diabetes.csv\", delimiter=\",\")\n",
    "print(dataset)\n",
    "\n",
    "x = ['y','y','n','y','y','n','y','n']\n",
    "\n",
    "encoder = LabelEncoder()     # Encoder used to assigning labels categorical \n",
    "encoder.fit(x)               # Fit encoder on to labels\n",
    "encoded_x = encoder.transform(x)\n",
    "\n",
    "print(encoded_x)   #Print newly assigned labels for x\n",
    "\n",
    "# split into input (X) and output (Y) variables\n",
    "X = dataset[:,0:8]\n",
    "Y = dataset[:,8] \n",
    "\n",
    "# Shows # of observations and variables\n",
    "print(dataset.shape) "
   ]
  },
  {
   "cell_type": "markdown",
   "metadata": {},
   "source": [
    "# Build Neural Network"
   ]
  },
  {
   "cell_type": "code",
   "execution_count": 3,
   "metadata": {},
   "outputs": [
    {
     "name": "stdout",
     "output_type": "stream",
     "text": [
      "WARNING:tensorflow:From /home/ktd2001/anaconda3/lib/python3.6/site-packages/tensorflow/python/framework/op_def_library.py:263: colocate_with (from tensorflow.python.framework.ops) is deprecated and will be removed in a future version.\n",
      "Instructions for updating:\n",
      "Colocations handled automatically by placer.\n"
     ]
    }
   ],
   "source": [
    "# Create sequential model \n",
    "model = Sequential()\n",
    "# Add Multilayer Perceptron with binary classes and activation functions\n",
    "model.add(Dense(12, input_dim=8,activation='relu')) #12 neurons using relu activation function\n",
    "model.add(Dense(8, kernel_initializer='uniform', activation='relu')) # 8 neurons using relu activation function\n",
    "model.add(Dense(1, kernel_initializer='uniform', activation='sigmoid')) #Single neuron used to produce a probability output in range of 0 to 1 "
   ]
  },
  {
   "cell_type": "markdown",
   "metadata": {},
   "source": [
    "# Compile neural network model with learning rate, optimizer, loss function and accuracy metric"
   ]
  },
  {
   "cell_type": "code",
   "execution_count": 4,
   "metadata": {},
   "outputs": [],
   "source": [
    "adam = optimizers.Adam(lr=0.001, beta_1=0.9, beta_2=0.999, epsilon=None, decay=0.0, amsgrad=False)\n",
    "\n",
    "model.compile(loss='binary_crossentropy', optimizer='adam', metrics=['accuracy'])\n"
   ]
  },
  {
   "cell_type": "markdown",
   "metadata": {},
   "source": [
    "# Fit the model by training neural network"
   ]
  },
  {
   "cell_type": "code",
   "execution_count": 5,
   "metadata": {},
   "outputs": [
    {
     "name": "stdout",
     "output_type": "stream",
     "text": [
      "WARNING:tensorflow:From /home/ktd2001/anaconda3/lib/python3.6/site-packages/tensorflow/python/ops/math_ops.py:3066: to_int32 (from tensorflow.python.ops.math_ops) is deprecated and will be removed in a future version.\n",
      "Instructions for updating:\n",
      "Use tf.cast instead.\n"
     ]
    }
   ],
   "source": [
    "history = model.fit(X,Y,epochs=150,batch_size=10, verbose=0)"
   ]
  },
  {
   "cell_type": "markdown",
   "metadata": {},
   "source": [
    "# Predicted input values"
   ]
  },
  {
   "cell_type": "code",
   "execution_count": 6,
   "metadata": {},
   "outputs": [],
   "source": [
    "Y_predict = model.predict(X) "
   ]
  },
  {
   "cell_type": "markdown",
   "metadata": {},
   "source": [
    "# Evaluate efficiency and performance of the model now that NN is built "
   ]
  },
  {
   "cell_type": "code",
   "execution_count": 7,
   "metadata": {},
   "outputs": [
    {
     "name": "stdout",
     "output_type": "stream",
     "text": [
      "768/768 [==============================] - 0s 130us/step\n"
     ]
    }
   ],
   "source": [
    "scores = model.evaluate(X, Y)   # Evaluation of the loss function for a given inputs"
   ]
  },
  {
   "cell_type": "markdown",
   "metadata": {},
   "source": [
    "# List all data in history and accurancy rate"
   ]
  },
  {
   "cell_type": "code",
   "execution_count": 8,
   "metadata": {},
   "outputs": [
    {
     "name": "stdout",
     "output_type": "stream",
     "text": [
      "\n",
      "acc: 79.04%\n",
      "\n",
      "loss: 47.40%\n"
     ]
    }
   ],
   "source": [
    "#print(history.history.keys())\n",
    "# accuracy\n",
    "print(\"\\n%s: %.2f%%\" % (model.metrics_names[1], scores[1]*100))\n",
    "#loss\n",
    "print(\"\\n%s: %.2f%%\" % (model.metrics_names[0], scores[0]*100))"
   ]
  },
  {
   "cell_type": "markdown",
   "metadata": {},
   "source": [
    "# Create confusion matrix details"
   ]
  },
  {
   "cell_type": "code",
   "execution_count": 9,
   "metadata": {},
   "outputs": [
    {
     "name": "stdout",
     "output_type": "stream",
     "text": [
      "Confusion Matrix\n",
      "================\n",
      "True negatives: 403\n",
      "False negatives: 64\n",
      "False positives: 97\n",
      "True positives: 204\n"
     ]
    }
   ],
   "source": [
    "rounded = [round(i[0]) for i in Y_predict]\n",
    "y_pred = np.array(rounded,dtype='int64') # create np array using y-pred values\n",
    "print('Confusion Matrix')   # Used on classification models that are using data with known values\n",
    "print('================')\n",
    "CM = confusion_matrix(Y, y_pred)\n",
    "print('True negatives:',CM[0,0])  #Actually No and predicted No\n",
    "print('False negatives:',CM[1,0]) #Actually Yes but predicted No \n",
    "print('False positives:',CM[0,1]) #Actually No but predicted Yes\n",
    "print('True positives:',CM[1,1])  #Actually Yes and predicted Yes"
   ]
  },
  {
   "cell_type": "code",
   "execution_count": null,
   "metadata": {},
   "outputs": [],
   "source": [
    "#Y_predict # Predictions"
   ]
  },
  {
   "cell_type": "code",
   "execution_count": null,
   "metadata": {},
   "outputs": [],
   "source": [
    "#plt.plot(Y_predict:8)\n",
    "#plt.title(\"A\")\n",
    "#plt.xlabel(\"col\")\n",
    "#plt.ylabel('')\n",
    "#plt.show()"
   ]
  },
  {
   "cell_type": "code",
   "execution_count": 10,
   "metadata": {},
   "outputs": [
    {
     "name": "stdout",
     "output_type": "stream",
     "text": [
      "range(1, 769)\n"
     ]
    }
   ],
   "source": [
    "# Create count of the number of epochs\n",
    "epoch_count = range(1, len(X) + 1)\n",
    "print(epoch_count)"
   ]
  },
  {
   "cell_type": "code",
   "execution_count": 11,
   "metadata": {},
   "outputs": [
    {
     "data": {
      "image/png": "[encoded data removed]",
      "text/plain": [
       "<Figure size 432x288 with 1 Axes>"
      ]
     },
     "metadata": {},
     "output_type": "display_data"
    }
   ],
   "source": [
    "#Plot figure\n",
    "plt.plot(history.history['acc'])\n",
    "plt.plot(history.history['loss'])\n",
    "plt.title('Model Accuracy and Loss in 150 Epochs')\n",
    "plt.ylabel('Convergency of Loss and Accuracy')\n",
    "plt.xlabel('Epoch')\n",
    "plt.legend(['acc', 'loss'], loc='center right')\n",
    "plt.text(15, 0.35, 'Plot of Model Accuracy and Loss Pima Indian Datasets. Loss is decreasing and accuracy is increasing.', ha='center', va='top')\n",
    "plt.show()"
   ]
  },
  {
   "cell_type": "markdown",
   "metadata": {},
   "source": [
    "# Learning rate 0.01 and epochs 1000"
   ]
  },
  {
   "cell_type": "code",
   "execution_count": 12,
   "metadata": {},
   "outputs": [
    {
     "name": "stdout",
     "output_type": "stream",
     "text": [
      "768/768 [==============================] - 0s 134us/step\n",
      "\n",
      "acc: 81.25%\n",
      "\n",
      "loss: 41.27%\n",
      "Confusion Matrix\n",
      "================\n",
      "True negatives: 424\n",
      "False negatives: 68\n",
      "False positives: 76\n",
      "True positives: 200\n"
     ]
    }
   ],
   "source": [
    "# Create model - Multilayer Perceptron with activation functions\n",
    "model = Sequential()\n",
    "# Connected layers changed\n",
    "model.add(Dense(12, input_dim=8,activation='relu')) #12 neurons using relu activation function\n",
    "model.add(Dense(8, activation='relu')) # 8 neurons using relu activation function\n",
    "model.add(Dense(1, activation='sigmoid')) #Single neuron used to produce a probability output in range of 0 to 1 \n",
    "\n",
    "# Changed Learning Rate to 0.01 \n",
    "adam_1000 = optimizers.Adam(lr=0.01, beta_1=0.9, beta_2=0.999, epsilon=None, decay=0.0, amsgrad=False)\n",
    "\n",
    "model.compile(loss='binary_crossentropy', optimizer='adam', metrics=['accuracy'])\n",
    "\n",
    "# Fit the model \n",
    "history = model.fit(X,Y,epochs=1000,batch_size=10, verbose=0)\n",
    "\n",
    "# Evaluate the model efficiency and performance\n",
    "scores_1000 = model.evaluate(X, Y)\n",
    "Y_predict_1000 = model.predict(X)\n",
    "\n",
    "# Accuracy and loss\n",
    "print(\"\\n%s: %.2f%%\" % (model.metrics_names[1], scores_1000[1]*100))\n",
    "print(\"\\n%s: %.2f%%\" % (model.metrics_names[0], scores_1000[0]*100))\n",
    "      \n",
    "# Create confusion matrix details\n",
    "rounded_1000 = [round(i[0]) for i in Y_predict_1000]\n",
    "y_pred_1000 = np.array(rounded_1000,dtype='int64')# create np array using y-pred values\n",
    "print('Confusion Matrix')   # Used on classification models that are using data with known values\n",
    "print('================')\n",
    "CM = confusion_matrix(Y, y_pred_1000)\n",
    "print('True negatives:',CM[0,0])  #Actually No and predicted No\n",
    "print('False negatives:',CM[1,0]) #Actually Yes but predicted No \n",
    "print('False positives:',CM[0,1]) #Actually No but predicted Yes\n",
    "print('True positives:',CM[1,1])  #Actually Yes and predicted Yes"
   ]
  },
  {
   "cell_type": "code",
   "execution_count": 13,
   "metadata": {},
   "outputs": [
    {
     "data": {
      "image/png": "[encoded data removed]",
      "text/plain": [
       "<Figure size 432x288 with 1 Axes>"
      ]
     },
     "metadata": {},
     "output_type": "display_data"
    }
   ],
   "source": [
    "# Plot figure\n",
    "plt.plot(history.history['acc'])\n",
    "plt.plot(history.history['loss'])\n",
    "plt.title('Model Accuracy and Loss in 1000 Epochs and LR 0.01')\n",
    "plt.ylabel('Convergency of Loss and Accuracy')\n",
    "plt.xlabel('Epoch')\n",
    "plt.legend(['acc', 'loss'], loc ='center right')\n",
    "plt.text(15, -0.8, 'Plot shows loss and accuracy using learning rate of 0.01, epochs of 1000.', ha='center', va='top')\n",
    "plt.show()"
   ]
  },
  {
   "cell_type": "markdown",
   "metadata": {},
   "source": [
    "We have our steep decline in loss and accurancy is slowy improving with a learning rate of 0.01."
   ]
  },
  {
   "cell_type": "markdown",
   "metadata": {},
   "source": [
    "# Learning rate 0.1 and epochs 15000 "
   ]
  },
  {
   "cell_type": "code",
   "execution_count": 14,
   "metadata": {},
   "outputs": [
    {
     "name": "stdout",
     "output_type": "stream",
     "text": [
      "768/768 [==============================] - 0s 181us/step\n",
      "\n",
      "acc: 79.04%\n",
      "\n",
      "loss: 47.40%\n",
      "Confusion Matrix\n",
      "================\n",
      "True negatives: 461\n",
      "False negatives: 84\n",
      "False positives: 39\n",
      "True positives: 184\n"
     ]
    }
   ],
   "source": [
    "# create model - Multilayer Perceptron with activation functions\n",
    "model = Sequential()\n",
    "model.add(Dense(12, input_dim=8,activation='relu')) #12 neurons using relu activation function\n",
    "model.add(Dense(8, activation='relu')) # 8 neurons using relu activation function\n",
    "model.add(Dense(1, activation='sigmoid')) #Single neuron used to produce a probability output in range of 0 to 1 \n",
    "\n",
    "# Compile model \n",
    "adam_15000 = optimizers.Adam(lr=0.1, beta_1=0.9, beta_2=0.999, epsilon=None, decay=0.0, amsgrad=False)\n",
    "\n",
    "model.compile(loss='binary_crossentropy', optimizer='adam', metrics=['accuracy'])\n",
    "\n",
    "# Fit the model \n",
    "history = model.fit(X,Y,epochs=15000,batch_size=10, verbose=0)\n",
    "\n",
    "# Evaluate the model efficiency and performance\n",
    "scores_15000 = model.evaluate(X, Y)\n",
    "Y_predict_15000 = model.predict(X)\n",
    "\n",
    "# Accuracy and Loss\n",
    "print(\"\\n%s: %.2f%%\" % (model.metrics_names[1], scores[1]*100))\n",
    "print(\"\\n%s: %.2f%%\" % (model.metrics_names[0], scores[0]*100))\n",
    "\n",
    "\n",
    "# Create confusion matrix details\n",
    "rounded_15000 = [round(i[0]) for i in Y_predict_15000]\n",
    "y_pred_15000 = np.array(rounded_15000,dtype='int64')\n",
    "print('Confusion Matrix')   # Used on classification models that are using data with known values\n",
    "print('================')\n",
    "CM = confusion_matrix(Y, y_pred_15000)\n",
    "print('True negatives:',CM[0,0])  #Actually No and predicted No\n",
    "print('False negatives:',CM[1,0]) #Actually Yes but predicted No \n",
    "print('False positives:',CM[0,1]) #Actually No but predicted Yes\n",
    "print('True positives:',CM[1,1])  #Actually Yes and predicted Yes"
   ]
  },
  {
   "cell_type": "code",
   "execution_count": 15,
   "metadata": {},
   "outputs": [
    {
     "data": {
      "image/png": "[encoded data removed]",
      "text/plain": [
       "<Figure size 432x288 with 1 Axes>"
      ]
     },
     "metadata": {},
     "output_type": "display_data"
    }
   ],
   "source": [
    "#Plot figure\n",
    "plt.plot(history.history['acc']) \n",
    "plt.plot(history.history['loss'])\n",
    "plt.title('Model Accuracy and Loss in 15000 Epocihs and LR 0.1')\n",
    "plt.ylabel('Convergency of Loss and Accuracy')\n",
    "plt.xlabel('Epoch')\n",
    "plt.legend(['acc', 'loss'], loc='center right')\n",
    "#plt.text(25,-3, 'Plot shows loss and accurancy with a learning rate of 0.1 and epochs of 15000.', ha='center', va='top')\n",
    "plt.show()"
   ]
  },
  {
   "cell_type": "markdown",
   "metadata": {},
   "source": [
    "We have our steep decline in loss and accurancy is not improving with learning rate of 0.1."
   ]
  },
  {
   "cell_type": "markdown",
   "metadata": {},
   "source": [
    "# Reflection"
   ]
  },
  {
   "cell_type": "markdown",
   "metadata": {},
   "source": [
    "The default learning rate within the Adam optimizer of 0.001 produces the most amount of efficiency for this model.   "
   ]
  }
 ],
 "metadata": {
  "kernelspec": {
   "display_name": "Python 3",
   "language": "python",
   "name": "python3"
  },
  "language_info": {
   "codemirror_mode": {
    "name": "ipython",
    "version": 3
   },
   "file_extension": ".py",
   "mimetype": "text/x-python",
   "name": "python",
   "nbconvert_exporter": "python",
   "pygments_lexer": "ipython3",
   "version": "3.6.8"
  }
 },
 "nbformat": 4,
 "nbformat_minor": 2
}
