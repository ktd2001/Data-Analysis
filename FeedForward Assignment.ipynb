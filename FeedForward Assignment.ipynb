{
 "cells": [
  {
   "cell_type": "markdown",
   "metadata": {},
   "source": [
    "Keiana Dunn\n",
    "Neural Network - Forward Feeding\n",
    "Data Analysis \n",
    "Week 7\n",
    "3/1/19"
   ]
  },
  {
   "cell_type": "code",
   "execution_count": 1,
   "metadata": {},
   "outputs": [],
   "source": [
    "# Import package\n",
    "import numpy as np"
   ]
  },
  {
   "cell_type": "code",
   "execution_count": 4,
   "metadata": {},
   "outputs": [],
   "source": [
    "# You should write your target function in this space\n",
    "#====================================================\n",
    "\n",
    "# Define RelU and Sigmoid activation functions\n",
    "\n",
    "# Rectified Linear Unit (ReLU) used there is a matrix-vector product\n",
    "def relu(x):\n",
    "    return np.maximum(x,0)\n",
    "\n",
    "\n",
    "# Calculate Sigmoid to get output values in a range of 0 to 1\n",
    "def sigmoid(x):\n",
    "    return 1 / (1 + np.exp(-x))\n",
    " \n",
    "#====================================================="
   ]
  },
  {
   "cell_type": "code",
   "execution_count": 5,
   "metadata": {},
   "outputs": [
    {
     "name": "stdout",
     "output_type": "stream",
     "text": [
      "6.483570765056164\n",
      "3.861735698828815\n",
      "5.59075415240277\n",
      "4.523029856408026\n",
      "1.297539875829992\n",
      "1.7658630430508195\n"
     ]
    }
   ],
   "source": [
    "# Network size\n",
    "N_input = 5\n",
    "N_hidden1 = 4\n",
    "N_hidden2 = 3\n",
    "N_output = 2\n",
    "\n",
    "np.random.seed(42)\n",
    "\n",
    "# Weights and Bias Initialization\n",
    "\n",
    "# Calculate the input to the hidden layer 1 by multiplying neuron weights in hidden layer 1 by neuron weights in input \n",
    "weights_in_hidden1 = np.random.normal(N_hidden1, N_input)\n",
    "# Calculate bias 1 of hidden layer 1\n",
    "bias1 = np.random.normal(N_hidden1, 1)\n",
    "\n",
    "print(weights_in_hidden1)\n",
    "print(bias1)\n",
    "\n",
    "# Calculate the hidden layer 1 to the hidden layer 2 by multiplying neuron weights in hidden layer 2 by neuron weights in hidden layer 1  \n",
    "weights_in_hidden2 = np.random.normal(N_hidden2, N_hidden1)\n",
    "# Calculate bias 2 of hidden layer 2 \n",
    "bias2 = np.random.normal(N_hidden2, 1)\n",
    "\n",
    "print(weights_in_hidden2)\n",
    "print(bias2)\n",
    "\n",
    "# Calculate the hidden layer 2 to the output layer by multiplying neuron weights from output by neuron weights in hidden layer 2\n",
    "weights_in_out = np.random.normal(N_output, N_hidden2)\n",
    "# Calculate the bias to output of the network\n",
    "bias_out = np.random.normal(N_output, 1)\n",
    "\n",
    "\n",
    "print(weights_in_out)\n",
    "print(bias_out)\n",
    "\n"
   ]
  },
  {
   "cell_type": "code",
   "execution_count": 9,
   "metadata": {},
   "outputs": [
    {
     "name": "stdout",
     "output_type": "stream",
     "text": [
      "Input hidden_layer_1 \n",
      "[10.34530646  3.8617357   3.8617357   3.8617357  10.34530646]\n",
      "===========================================================\n",
      "hidden_layer_activation1\n",
      "[0.99996786 0.97940175 0.97940175 0.97940175 0.99996786]\n",
      "===========================================================\n",
      "Input hidden_layer_2 \n",
      "[10.11360431  9.99862425  9.99862425  9.99862425 10.11360431]\n",
      "===========================================================\n",
      "hidden_layer_activation2\n",
      "[0.99995948 0.99995454 0.99995454 0.99995454 0.99995948]\n",
      "===========================================================\n",
      "output_layer_in\n",
      "[0.95535541 0.95535514 0.95535514 0.95535514 0.95535541]\n",
      "===========================================================\n",
      "Features :  [1. 0. 0. 0. 1.]  Targets :  [1. 0.]\n"
     ]
    }
   ],
   "source": [
    "## Set up training data\n",
    "## Each row is a case\n",
    "## Columns 0-4 are features\n",
    "## Columns 5 & 6 are targets\n",
    "\n",
    "features_and_targets = np.array( \n",
    "                                   [ [0, 0, 0, 0, 0, 0, 1],\n",
    "                                     [0, 0, 0, 0, 1, 0, 1],\n",
    "                                     [0, 0, 0, 1, 1, 0, 1],\n",
    "                                     [0, 0, 1, 1, 1, 0, 1],\n",
    "                                     [0, 1, 1, 1, 1, 0, 1],\n",
    "                                     [1, 1, 1, 1, 0, 0, 1],\n",
    "                                     [1, 1, 1, 0, 0, 0, 1],\n",
    "                                     [1, 1, 0, 0, 0, 0, 1],\n",
    "                                     [1, 0, 0, 0, 0, 0, 1],\n",
    "                                     [1, 0, 0, 1, 0, 0, 1],\n",
    "                                     [1, 0, 1, 1, 0, 0, 1],\n",
    "                                     [1, 1, 0, 1, 0, 0, 1],\n",
    "                                     [0, 1, 0, 1, 1, 0, 1],\n",
    "                                     [0, 0, 1, 0, 1, 0, 1],\n",
    "                                     [1, 0, 1, 1, 1, 1, 0],\n",
    "                                     [1, 1, 0, 1, 1, 1, 0],\n",
    "                                     [1, 0, 1, 0, 1, 1, 0],\n",
    "                                     [1, 0, 0, 0, 1, 1, 0],\n",
    "                                     [1, 1, 0, 0, 1, 1, 0],\n",
    "                                     [1, 1, 1, 0, 1, 1, 0],\n",
    "                                     [1, 1, 1, 1, 1, 1, 0],\n",
    "                                     [1, 0, 0, 1, 1, 1, 0]  ]\n",
    "                           , dtype=float)\n",
    "\n",
    "# shuffle our cases\n",
    "np.random.shuffle(features_and_targets)\n",
    "\n",
    "for i in range(22):\n",
    "    # 22 feature observations \n",
    "    features = features_and_targets[i,0:5]\n",
    "    # 22 target observations\n",
    "    targets = features_and_targets[i,5:7]\n",
    "\n",
    "# Perform a feedforward through the network using sigmoid and relu activtion function. The weights and biases from \n",
    "# input and hidden layers will be put through the activation functions. \n",
    "    \n",
    "    hidden_layer_input1 = np.dot(features, weights_in_hidden1)+ bias1   \n",
    "    # Applying sigmond activation function\n",
    "    hidden_layer_activation1 = sigmoid(hidden_layer_input1)\n",
    "    \n",
    "    hidden_layer_input2 = np.dot(hidden_layer_activation1, weights_in_hidden2)+ bias2\n",
    "    # Applying sigmond activation function\n",
    "    hidden_layer_activation2 = sigmoid(hidden_layer_input2)\n",
    "\n",
    "    output_layer_in = np.dot(hidden_layer_activation2, weights_in_out)+ bias_out\n",
    "    output_layer_out = sigmoid(output_layer_in)    \n",
    "    \n",
    "# Call your target function here based on x\n",
    "# to compute your target values based on random \n",
    "# value and biases then you can add\n",
    "# your predicted y's to the print statements for all weights\n",
    "    \n",
    "\n",
    "print('Input hidden_layer_1 ')\n",
    "print(hidden_layer_input1)\n",
    "print(\"===========================================================\")\n",
    "print('hidden_layer_activation1')\n",
    "print(hidden_layer_activation1)\n",
    "print(\"===========================================================\")\n",
    "print('Input hidden_layer_2 ')\n",
    "print(hidden_layer_input2)\n",
    "print(\"===========================================================\")\n",
    "print('hidden_layer_activation2')\n",
    "print(hidden_layer_activation2)\n",
    "print(\"===========================================================\")\n",
    "print('output_layer_in')\n",
    "print(output_layer_out)\n",
    "print(\"===========================================================\")\n",
    "print('Features : ',features, ' Targets : ', targets)"
   ]
  },
  {
   "cell_type": "code",
   "execution_count": null,
   "metadata": {},
   "outputs": [],
   "source": [
    "print('Feature : ',features, ' Target : ', targets)"
   ]
  }
 ],
 "metadata": {
  "kernelspec": {
   "display_name": "Python 3",
   "language": "python",
   "name": "python3"
  },
  "language_info": {
   "codemirror_mode": {
    "name": "ipython",
    "version": 3
   },
   "file_extension": ".py",
   "mimetype": "text/x-python",
   "name": "python",
   "nbconvert_exporter": "python",
   "pygments_lexer": "ipython3",
   "version": "3.6.8"
  }
 },
 "nbformat": 4,
 "nbformat_minor": 2
}
