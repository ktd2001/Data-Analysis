{
 "cells": [
  {
   "cell_type": "code",
   "execution_count": 1,
   "metadata": {},
   "outputs": [],
   "source": [
    "# Keiana Dunn\n",
    "# Neural Network - Backp propagation - Sigmoid Activation Function\n",
    "# Data Analysis \n",
    "# 3/9/19\n",
    "# Week 7 Objective: Locate the \"best\" values for weights and bias with the help of \n",
    "# back propagation. The NN uses a learning rate to learn how to  Create code takes \n",
    "# 5 feature values and computes two targets based on random values for all weights \n",
    "# and biases and gives the user the option of choosing either a RELU or a sigmoid \n",
    "# function. Computation of the targets is in its own Python function and accept the \n",
    "# five features and all weights and biases as input and are output of the targets.\n"
   ]
  },
  {
   "cell_type": "code",
   "execution_count": 1,
   "metadata": {},
   "outputs": [],
   "source": [
    "import autograd.numpy as np\n",
    "from autograd import grad\n",
    "import matplotlib.pyplot as plt"
   ]
  },
  {
   "cell_type": "markdown",
   "metadata": {},
   "source": [
    "Definitions for Feedforward, Loss and Activation functions "
   ]
  },
  {
   "cell_type": "code",
   "execution_count": 2,
   "metadata": {},
   "outputs": [],
   "source": [
    "#Definitions for Feedforward and Loss \n",
    "def FF(features,weights_in_hidden1,bias1,weights_in_hidden2,bias2,weights_in_out,bias_out):    \n",
    "    neuron_value_layer2 = sigmoid((np.matmul(features, weights_in_hidden1))+ bias1.T)   \n",
    "    #print('neuron_value_layer2R shape', neuron_value_layer2R.shape)\n",
    "    #print('neuron_value_layer2R')\n",
    "    #print(neuron_value_layer2R)\n",
    "    #print('  ')\n",
    "    neuron_value_layer3 = sigmoid((np.matmul(neuron_value_layer2, weights_in_hidden2))+ bias2.T)\n",
    "    #print('neuron_value_layer3R')\n",
    "    #print(neuron_value_layer3R)\n",
    "    #print('  ')\n",
    "    neuron_value_layer_output = sigmoid((np.matmul(neuron_value_layer3, weights_in_out))+ bias_out.T)\n",
    "    #print('neuron_value_layer_outputR')\n",
    "    #print(neuron_value_layer_outputR)\n",
    "    #print('  ')  \n",
    "    return neuron_value_layer_output\n",
    "\n",
    "def loss(features,targets_observed,weights_in_hidden1,bias1,weights_in_hidden2,bias2,weights_in_out,bias_out):    \n",
    "    neuron_value_layer2 = sigmoid((np.matmul(features, weights_in_hidden1))+ bias1.T)   \n",
    "    #print('neuron_value_layer2R shape', neuron_value_layer2R.shape)\n",
    "    #print('neuron_value_layer2R')\n",
    "    #print(neuron_value_layer2R)\n",
    "    #print('  ')\n",
    "    neuron_value_layer3 = sigmoid((np.matmul(neuron_value_layer2, weights_in_hidden2))+ bias2.T)\n",
    "    #print('neuron_value_layer3R')\n",
    "    #print(neuron_value_layer3R)\n",
    "    #print('  ')\n",
    "    neuron_value_layer_output = relu((np.matmul(neuron_value_layer3, weights_in_out))+ bias_out.T)\n",
    "    #print('neuron_value_layer_outputR')\n",
    "    #print(neuron_value_layer_outputR)\n",
    "    #print('  ')  \n",
    "    return np.sum((targets_observed-neuron_value_layer_output)**2)\n",
    "\n",
    "#====================================================\n",
    "\n",
    "# Define Sigmoid and ReLU activation target function\n",
    "\n",
    "# Rectified Linear Unit (ReLU) used there is a matrix-vector product\n",
    "def relu(x):\n",
    "    return np.maximum(x,0)\n",
    "\n",
    "\n",
    "# Calculate Sigmoid to get output values in a range of 0 to 1\n",
    "def sigmoid(x):\n",
    "    return 1 / (1 + np.exp(-x))\n",
    " \n",
    "#====================================================="
   ]
  },
  {
   "cell_type": "code",
   "execution_count": 3,
   "metadata": {},
   "outputs": [
    {
     "name": "stdout",
     "output_type": "stream",
     "text": [
      "[0. 1.] [[0.5919997  0.64771128]]\n",
      "[0. 1.] [[0.59293198 0.64825126]]\n",
      "[0. 1.] [[0.59382194 0.64900177]]\n",
      "[0. 1.] [[0.59473529 0.6495035 ]]\n",
      "[0. 1.] [[0.59557906 0.6498291 ]]\n",
      "[0. 1.] [[0.59573066 0.65005071]]\n",
      "[0. 1.] [[0.5953397 0.6496904]]\n",
      "[0. 1.] [[0.59464396 0.64920063]]\n",
      "[0. 1.] [[0.59307164 0.64876367]]\n",
      "[0. 1.] [[0.59394521 0.64937969]]\n",
      "[0. 1.] [[0.59485325 0.64977862]]\n",
      "[0. 1.] [[0.59521594 0.64972687]]\n",
      "[0. 1.] [[0.59504098 0.64941757]]\n",
      "[0. 1.] [[0.59410971 0.64897033]]\n",
      "[1. 0.] [[0.59530145 0.64999907]]\n",
      "[1. 0.] [[0.59559345 0.64997704]]\n",
      "[1. 0.] [[0.59482623 0.64965832]]\n",
      "[1. 0.] [[0.59388165 0.64917362]]\n",
      "[1. 0.] [[0.59515074 0.64956705]]\n",
      "[1. 0.] [[0.59569659 0.64995916]]\n",
      "[1. 0.] [[0.59599392 0.65023351]]\n",
      "[1. 0.] [[0.59457804 0.64967065]]\n"
     ]
    }
   ],
   "source": [
    "# Network size\n",
    "N_input = 5\n",
    "N_hidden1 = 4\n",
    "N_hidden2 = 3\n",
    "N_output = 2\n",
    "\n",
    "# Allows the same numbers to appear every time even when the values are reset\n",
    "np.random.seed(51)\n",
    "\n",
    "# Weights and Bias Initialization - first guess\n",
    "\n",
    "# Calculate the input to the hidden layer 1 by multiplying neuron weights in hidden layer 1 by neuron weights in input \n",
    "weights_in_hidden1 = np.random.rand(N_input,N_hidden1)\n",
    "# Calculate bias 1 of hidden layer 1\n",
    "bias1 = np.random.rand(N_hidden1,1)\n",
    "\n",
    "# Calculate the hidden layer 1 to the hidden layer 2 by multiplying neuron weights in hidden layer 2 by neuron weights in hidden layer 1  \n",
    "weights_in_hidden2 = np.random.rand(N_hidden1,N_hidden2)\n",
    "# Calculate bias 2 of hidden layer 2 \n",
    "bias2 = np.random.rand(N_hidden2,1)\n",
    "\n",
    "# Calculate the hidden layer 2 to the output layer by multiplying neuron weights from output by neuron weights in hidden layer 2\n",
    "weights_in_out = np.random.rand(N_hidden2,N_output)\n",
    "# Calculate the bias to output of the network\n",
    "bias_out = np.random.rand(N_output,1)\n",
    "\n",
    "## Set up training data\n",
    "## Each row is a case\n",
    "## Columns 0-4 are features\n",
    "## Columns 5 & 6 are targets\n",
    "\n",
    "features_and_targets = np.array( \n",
    "                                   [ [0, 0, 0, 0, 0, 0, 1],\n",
    "                                     [0, 0, 0, 0, 1, 0, 1],\n",
    "                                     [0, 0, 0, 1, 1, 0, 1],\n",
    "                                     [0, 0, 1, 1, 1, 0, 1],\n",
    "                                     [0, 1, 1, 1, 1, 0, 1],\n",
    "                                     [1, 1, 1, 1, 0, 0, 1],\n",
    "                                     [1, 1, 1, 0, 0, 0, 1],\n",
    "                                     [1, 1, 0, 0, 0, 0, 1],\n",
    "                                     [1, 0, 0, 0, 0, 0, 1],\n",
    "                                     [1, 0, 0, 1, 0, 0, 1],\n",
    "                                     [1, 0, 1, 1, 0, 0, 1],\n",
    "                                     [1, 1, 0, 1, 0, 0, 1],\n",
    "                                     [0, 1, 0, 1, 1, 0, 1],\n",
    "                                     [0, 0, 1, 0, 1, 0, 1],\n",
    "                                     [1, 0, 1, 1, 1, 1, 0],\n",
    "                                     [1, 1, 0, 1, 1, 1, 0],\n",
    "                                     [1, 0, 1, 0, 1, 1, 0],\n",
    "                                     [1, 0, 0, 0, 1, 1, 0],\n",
    "                                     [1, 1, 0, 0, 1, 1, 0],\n",
    "                                     [1, 1, 1, 0, 1, 1, 0],\n",
    "                                     [1, 1, 1, 1, 1, 1, 0],\n",
    "                                     [1, 0, 0, 1, 1, 1, 0]  ]\n",
    "                           , dtype=float)\n",
    "\n",
    "# shuffle our cases\n",
    "#np.random.shuffle(features_and_targets)\n",
    "learning_rate = 0.001\n",
    "number_of_epochs = 800 #For NN epochs is equivalent to interations\n",
    "\n",
    "# To produce a function to compute the slope \n",
    "dloss_by_dw1 = grad(loss,2)\n",
    "dloss_by_db1 = grad(loss,3)\n",
    "dloss_by_dw2 = grad(loss,4)\n",
    "dloss_by_db2 = grad(loss,5)\n",
    "dloss_by_dw3 = grad(loss,6)\n",
    "dloss_by_db3 = grad(loss,7)\n",
    "#print(grad(loss,2))    \n",
    "losses = []\n",
    "\n",
    "for iteration in range(number_of_epochs):\n",
    "    \n",
    "    for i in range(22):\n",
    "        # 22 feature observations \n",
    "        features = features_and_targets[i,0:5]\n",
    "        # 22 target observations\n",
    "        targets_observed = features_and_targets[i,5:7]\n",
    "    \n",
    "        #print( FF(features,weights_in_hidden1,bias1,weights_in_hidden2,bias2,weights_in_out,bias_out) )\n",
    "        \n",
    "        # The assignment operator, -=, subtracts the variable to the left from the equation on right    \n",
    "        weights_in_hidden1 -= learning_rate * dloss_by_dw1(features,targets_observed,weights_in_hidden1,bias1,weights_in_hidden2,bias2,weights_in_out,bias_out)\n",
    "        bias1 -= learning_rate * dloss_by_db1(features,targets_observed,weights_in_hidden1,bias1,weights_in_hidden2,bias2,weights_in_out,bias_out)\n",
    "        weights_in_hidden2 -= learning_rate * dloss_by_dw2(features,targets_observed,weights_in_hidden1,bias1,weights_in_hidden2,bias2,weights_in_out,bias_out)\n",
    "        bias2 -= learning_rate * dloss_by_db2(features,targets_observed,weights_in_hidden1,bias1,weights_in_hidden2,bias2,weights_in_out,bias_out)        \n",
    "        weights_in_out -= learning_rate * dloss_by_dw3(features,targets_observed,weights_in_hidden1,bias1,weights_in_hidden2,bias2,weights_in_out,bias_out)\n",
    "        bias_out -= learning_rate * dloss_by_db3(features,targets_observed,weights_in_hidden1,bias1,weights_in_hidden2,bias2,weights_in_out,bias_out)\n",
    "        \n",
    "        c=losses.append(loss(features,targets_observed,weights_in_hidden1,bias1,weights_in_hidden2,bias2,weights_in_out,bias_out))\n",
    "        #print(c)\n",
    "        #print(loss(features,targets_observed,weights_in_hidden1,bias1,weights_in_hidden2,bias2,weights_in_out,bias_out))\n",
    "       \n",
    "\n",
    "\n",
    "#plt.semilogy(losses)\n",
    "#plt.show()\n",
    "#plt.text(0,.05,'text')\n",
    "\n",
    "for i in range(22):\n",
    "    features = features_and_targets[i,0:5]\n",
    "    # 22 target observations\n",
    "    targets_observed = features_and_targets[i,5:7]    \n",
    "    print( targets_observed, FF(features,weights_in_hidden1,bias1,weights_in_hidden2,bias2,weights_in_out,bias_out) )"
   ]
  },
  {
   "cell_type": "code",
   "execution_count": 5,
   "metadata": {},
   "outputs": [
    {
     "data": {
      "image/png": "[encoded data removed]",
      "text/plain": [
       "<Figure size 432x288 with 1 Axes>"
      ]
     },
     "metadata": {},
     "output_type": "display_data"
    }
   ],
   "source": [
    "plt.semilogy(losses) # make a plot with log scale on the y axis\n",
    "plt.text(2000,3,'The NNs ability performance at learning rate 0.001') # Add text on plot\n",
    "plt.xlabel('Number of epochs') # Add label name\n",
    "plt.title('Learning Curve using Sigmoid Activation Function ') # Add title name\n",
    "plt.ylabel('Score') # Add label name\n",
    "plt.show() # Plot graph"
   ]
  },
  {
   "cell_type": "code",
   "execution_count": 6,
   "metadata": {},
   "outputs": [
    {
     "data": {
      "text/plain": [
       "<Figure size 432x288 with 0 Axes>"
      ]
     },
     "metadata": {},
     "output_type": "display_data"
    }
   ],
   "source": [
    "plt.savefig('lr001.png')# Save figure"
   ]
  },
  {
   "cell_type": "markdown",
   "metadata": {},
   "source": [
    "At a learning rate of 0.001, the performance of the network shows it was able to learn quickly by the initial steep decline \n",
    "in the curve but it reached a limit in its ability to become efficient."
   ]
  },
  {
   "cell_type": "markdown",
   "metadata": {},
   "source": [
    "Rerun alorithm with new learning rate and additional epochs"
   ]
  },
  {
   "cell_type": "code",
   "execution_count": 7,
   "metadata": {},
   "outputs": [
    {
     "name": "stdout",
     "output_type": "stream",
     "text": [
      "[0. 1.] [[0.58924933 0.65037   ]]\n",
      "[0. 1.] [[0.58979394 0.65126496]]\n",
      "[0. 1.] [[0.59033579 0.65233553]]\n",
      "[0. 1.] [[0.59095944 0.65310051]]\n",
      "[0. 1.] [[0.59154486 0.65365658]]\n",
      "[0. 1.] [[0.59160339 0.65396254]]\n",
      "[0. 1.] [[0.59137211 0.65345888]]\n",
      "[0. 1.] [[0.59090506 0.65276264]]\n",
      "[0. 1.] [[0.58975072 0.65194654]]\n",
      "[0. 1.] [[0.59031307 0.65284793]]\n",
      "[0. 1.] [[0.59096324 0.65347986]]\n",
      "[0. 1.] [[0.59125183 0.65349235]]\n",
      "[0. 1.] [[0.5911968 0.6530735]]\n",
      "[0. 1.] [[0.59058006 0.65234318]]\n",
      "[1. 0.] [[0.59125541 0.65383765]]\n",
      "[1. 0.] [[0.59148522 0.65387078]]\n",
      "[1. 0.] [[0.59094497 0.65334765]]\n",
      "[1. 0.] [[0.59027289 0.65261522]]\n",
      "[1. 0.] [[0.59120878 0.65331134]]\n",
      "[1. 0.] [[0.59157965 0.65386114]]\n",
      "[1. 0.] [[0.5917607  0.65423944]]\n",
      "[1. 0.] [[0.5907337  0.65332701]]\n"
     ]
    }
   ],
   "source": [
    "# Network size\n",
    "N_input = 5\n",
    "N_hidden1 = 4\n",
    "N_hidden2 = 3\n",
    "N_output = 2\n",
    "\n",
    "# Allows the same numbers to appear every time even when the values are reset\n",
    "np.random.seed(51)\n",
    "\n",
    "# Weights and Bias Initialization - first guess\n",
    "\n",
    "# Calculate the input to the hidden layer 1 by multiplying neuron weights in hidden layer 1 by neuron weights in input \n",
    "weights_in_hidden1 = np.random.rand(N_input,N_hidden1)\n",
    "# Calculate bias 1 of hidden layer 1\n",
    "bias1 = np.random.rand(N_hidden1,1)\n",
    "\n",
    "# Calculate the hidden layer 1 to the hidden layer 2 by multiplying neuron weights in hidden layer 2 by neuron weights in hidden layer 1  \n",
    "weights_in_hidden2 = np.random.rand(N_hidden1,N_hidden2)\n",
    "# Calculate bias 2 of hidden layer 2 \n",
    "bias2 = np.random.rand(N_hidden2,1)\n",
    "\n",
    "# Calculate the hidden layer 2 to the output layer by multiplying neuron weights from output by neuron weights in hidden layer 2\n",
    "weights_in_out = np.random.rand(N_hidden2,N_output)\n",
    "# Calculate the bias to output of the network\n",
    "bias_out = np.random.rand(N_output,1)\n",
    "\n",
    "## Set up training data\n",
    "## Each row is a case\n",
    "## Columns 0-4 are features\n",
    "## Columns 5 & 6 are targets\n",
    "\n",
    "features_and_targets = np.array( \n",
    "                                   [ [0, 0, 0, 0, 0, 0, 1],\n",
    "                                     [0, 0, 0, 0, 1, 0, 1],\n",
    "                                     [0, 0, 0, 1, 1, 0, 1],\n",
    "                                     [0, 0, 1, 1, 1, 0, 1],\n",
    "                                     [0, 1, 1, 1, 1, 0, 1],\n",
    "                                     [1, 1, 1, 1, 0, 0, 1],\n",
    "                                     [1, 1, 1, 0, 0, 0, 1],\n",
    "                                     [1, 1, 0, 0, 0, 0, 1],\n",
    "                                     [1, 0, 0, 0, 0, 0, 1],\n",
    "                                     [1, 0, 0, 1, 0, 0, 1],\n",
    "                                     [1, 0, 1, 1, 0, 0, 1],\n",
    "                                     [1, 1, 0, 1, 0, 0, 1],\n",
    "                                     [0, 1, 0, 1, 1, 0, 1],\n",
    "                                     [0, 0, 1, 0, 1, 0, 1],\n",
    "                                     [1, 0, 1, 1, 1, 1, 0],\n",
    "                                     [1, 1, 0, 1, 1, 1, 0],\n",
    "                                     [1, 0, 1, 0, 1, 1, 0],\n",
    "                                     [1, 0, 0, 0, 1, 1, 0],\n",
    "                                     [1, 1, 0, 0, 1, 1, 0],\n",
    "                                     [1, 1, 1, 0, 1, 1, 0],\n",
    "                                     [1, 1, 1, 1, 1, 1, 0],\n",
    "                                     [1, 0, 0, 1, 1, 1, 0]  ]\n",
    "                           , dtype=float)\n",
    "\n",
    "# shuffle our cases\n",
    "#np.random.shuffle(features_and_targets)\n",
    "learning_rate = 0.0001\n",
    "number_of_epochs = 2000 #For NN epochs is equivalent to interations\n",
    "\n",
    "# To produce a function to compute the slope \n",
    "dloss_by_dw1 = grad(loss,2)\n",
    "dloss_by_db1 = grad(loss,3)\n",
    "dloss_by_dw2 = grad(loss,4)\n",
    "dloss_by_db2 = grad(loss,5)\n",
    "dloss_by_dw3 = grad(loss,6)\n",
    "dloss_by_db3 = grad(loss,7)\n",
    "#print(grad(loss,2))    \n",
    "losses = []\n",
    "\n",
    "for iteration in range(number_of_epochs):\n",
    "    \n",
    "    for i in range(22):\n",
    "        # 22 feature observations \n",
    "        features = features_and_targets[i,0:5]\n",
    "        # 22 target observations\n",
    "        targets_observed = features_and_targets[i,5:7]\n",
    "    \n",
    "        #print( FF(features,weights_in_hidden1,bias1,weights_in_hidden2,bias2,weights_in_out,bias_out) )\n",
    "        \n",
    "        # The assignment operator, -=, subtracts the variable to the left from the equation on right    \n",
    "        weights_in_hidden1 -= learning_rate * dloss_by_dw1(features,targets_observed,weights_in_hidden1,bias1,weights_in_hidden2,bias2,weights_in_out,bias_out)\n",
    "        bias1 -= learning_rate * dloss_by_db1(features,targets_observed,weights_in_hidden1,bias1,weights_in_hidden2,bias2,weights_in_out,bias_out)\n",
    "        weights_in_hidden2 -= learning_rate * dloss_by_dw2(features,targets_observed,weights_in_hidden1,bias1,weights_in_hidden2,bias2,weights_in_out,bias_out)\n",
    "        bias2 -= learning_rate * dloss_by_db2(features,targets_observed,weights_in_hidden1,bias1,weights_in_hidden2,bias2,weights_in_out,bias_out)        \n",
    "        weights_in_out -= learning_rate * dloss_by_dw3(features,targets_observed,weights_in_hidden1,bias1,weights_in_hidden2,bias2,weights_in_out,bias_out)\n",
    "        bias_out -= learning_rate * dloss_by_db3(features,targets_observed,weights_in_hidden1,bias1,weights_in_hidden2,bias2,weights_in_out,bias_out)\n",
    "        \n",
    "        c=losses.append(loss(features,targets_observed,weights_in_hidden1,bias1,weights_in_hidden2,bias2,weights_in_out,bias_out))\n",
    "        #print(c)\n",
    "        #print(loss(features,targets_observed,weights_in_hidden1,bias1,weights_in_hidden2,bias2,weights_in_out,bias_out))\n",
    "\n",
    "for i in range(22):\n",
    "    features = features_and_targets[i,0:5]\n",
    "    # 22 target observations\n",
    "    targets_observed = features_and_targets[i,5:7]    \n",
    "    print( targets_observed, FF(features,weights_in_hidden1,bias1,weights_in_hidden2,bias2,weights_in_out,bias_out) )"
   ]
  },
  {
   "cell_type": "code",
   "execution_count": 8,
   "metadata": {},
   "outputs": [
    {
     "data": {
      "image/png": "[encoded data removed]",
      "text/plain": [
       "<Figure size 432x288 with 1 Axes>"
      ]
     },
     "metadata": {},
     "output_type": "display_data"
    }
   ],
   "source": [
    "plt.semilogy(losses) # make a plot with log scale on the y axis\n",
    "plt.text(3000,3,'The NNs performance at learning rate 0.0001  ') # Add text on plot\n",
    "plt.xlabel('Number of epochs') # Add label name\n",
    "plt.title('Learning Curve using Sigmoid Activation Function ') # Add title name\n",
    "plt.ylabel('Value') # Add label name\n",
    "plt.show() # Plot graph\n",
    "#plt.savefig('lr0001.png') # Save figure"
   ]
  },
  {
   "cell_type": "markdown",
   "metadata": {},
   "source": [
    "With a slower learning rate of 0.0001 and double iterations, the network was still not able to improve its efficiency \n",
    "with sigmoid activation. There was no significant change in the observed output weight values with changing the learning rate. The output weights vales were similar with both learning rates."
   ]
  }
 ],
 "metadata": {
  "kernelspec": {
   "display_name": "Python 3",
   "language": "python",
   "name": "python3"
  },
  "language_info": {
   "codemirror_mode": {
    "name": "ipython",
    "version": 3
   },
   "file_extension": ".py",
   "mimetype": "text/x-python",
   "name": "python",
   "nbconvert_exporter": "python",
   "pygments_lexer": "ipython3",
   "version": "3.6.8"
  }
 },
 "nbformat": 4,
 "nbformat_minor": 2
}
